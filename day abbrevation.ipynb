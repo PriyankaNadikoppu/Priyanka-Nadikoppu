{
 "cells": [
  {
   "cell_type": "code",
   "execution_count": null,
   "id": "3d219748-c02b-4890-9e43-cd1e695520be",
   "metadata": {},
   "outputs": [],
   "source": [
    "#day abbrevation\n",
    "from datetime import date\n",
    "today= date.today()\n",
    "name= today.strftime(\"%A\")\n",
    "print(\"today : \", name)"
   ]
  }
 ],
 "metadata": {
  "kernelspec": {
   "display_name": "Python 3 (ipykernel)",
   "language": "python",
   "name": "python3"
  },
  "language_info": {
   "codemirror_mode": {
    "name": "ipython",
    "version": 3
   },
   "file_extension": ".py",
   "mimetype": "text/x-python",
   "name": "python",
   "nbconvert_exporter": "python",
   "pygments_lexer": "ipython3",
   "version": "3.12.7"
  }
 },
 "nbformat": 4,
 "nbformat_minor": 5
}
