{
 "cells": [
  {
   "cell_type": "code",
   "execution_count": null,
   "id": "17d98ab4-69de-4a6b-a8ba-c5de9af7997f",
   "metadata": {},
   "outputs": [],
   "source": [
    "r= float(input(\"enter the radius\"))\n",
    "pi= 3.14159\n",
    "area= pi*(r**2)\n",
    "print(area)\n",
    "circumfrence= 2*pi*r\n",
    "print(circumfrence)\n",
    "\n"
   ]
  }
 ],
 "metadata": {
  "kernelspec": {
   "display_name": "Python 3 (ipykernel)",
   "language": "python",
   "name": "python3"
  },
  "language_info": {
   "codemirror_mode": {
    "name": "ipython",
    "version": 3
   },
   "file_extension": ".py",
   "mimetype": "text/x-python",
   "name": "python",
   "nbconvert_exporter": "python",
   "pygments_lexer": "ipython3",
   "version": "3.12.7"
  }
 },
 "nbformat": 4,
 "nbformat_minor": 5
}
