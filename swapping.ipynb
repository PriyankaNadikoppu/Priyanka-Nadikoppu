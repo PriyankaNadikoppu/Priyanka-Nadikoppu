{
 "cells": [
  {
   "cell_type": "code",
   "execution_count": null,
   "id": "f82cedf8-d869-4b99-8d85-a402512d012e",
   "metadata": {},
   "outputs": [],
   "source": [
    "#swaping with temp variable\n",
    "a= int(input(\"enter the value of a :\"))\n",
    "b= int(input(\"enter the value of b :\"))\n",
    "print(\"before swapping a= \", a,\"b= \",b)\n",
    "a= a*b\n",
    "b= a/b\n",
    "a= a/b\n",
    "print(\"after swapping a= \", a,\"b= \",b)\n"
   ]
  }
 ],
 "metadata": {
  "kernelspec": {
   "display_name": "Python 3 (ipykernel)",
   "language": "python",
   "name": "python3"
  },
  "language_info": {
   "codemirror_mode": {
    "name": "ipython",
    "version": 3
   },
   "file_extension": ".py",
   "mimetype": "text/x-python",
   "name": "python",
   "nbconvert_exporter": "python",
   "pygments_lexer": "ipython3",
   "version": "3.12.7"
  }
 },
 "nbformat": 4,
 "nbformat_minor": 5
}
