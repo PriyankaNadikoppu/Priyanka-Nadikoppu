{
 "cells": [
  {
   "cell_type": "code",
   "execution_count": null,
   "id": "d3079ded-a713-466e-b1bf-e76b50a54bf0",
   "metadata": {},
   "outputs": [],
   "source": [
    "#data time and calender epoch time\n",
    "from datetime import datetime\n",
    "now= datetime.now()\n",
    "print(\"current time:\",  now)\n",
    "print(\"date: \",now.date())\n",
    "print(\"time: \",now.time())\n"
   ]
  }
 ],
 "metadata": {
  "kernelspec": {
   "display_name": "Python 3 (ipykernel)",
   "language": "python",
   "name": "python3"
  },
  "language_info": {
   "codemirror_mode": {
    "name": "ipython",
    "version": 3
   },
   "file_extension": ".py",
   "mimetype": "text/x-python",
   "name": "python",
   "nbconvert_exporter": "python",
   "pygments_lexer": "ipython3",
   "version": "3.12.7"
  }
 },
 "nbformat": 4,
 "nbformat_minor": 5
}
