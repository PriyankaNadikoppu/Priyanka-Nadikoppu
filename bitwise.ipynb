{
 "cells": [
  {
   "cell_type": "code",
   "execution_count": null,
   "id": "7f5eceea-59fe-40c4-880d-93715deb2b4b",
   "metadata": {},
   "outputs": [],
   "source": [
    "#swaping with temp variable\n",
    "a= int(input(\"enter the value of a :\"))\n",
    "b= int(input(\"enter the value of b :\"))\n",
    "print(\"before swapping a= \", a,\"b= \", b)\n",
    "a= a^b\n",
    "b= a^b\n",
    "a= a^b\n",
    "print(\"after swapping a= \",round(a),\"b= \",round(b))\n"
   ]
  }
 ],
 "metadata": {
  "kernelspec": {
   "display_name": "Python 3 (ipykernel)",
   "language": "python",
   "name": "python3"
  },
  "language_info": {
   "codemirror_mode": {
    "name": "ipython",
    "version": 3
   },
   "file_extension": ".py",
   "mimetype": "text/x-python",
   "name": "python",
   "nbconvert_exporter": "python",
   "pygments_lexer": "ipython3",
   "version": "3.12.7"
  }
 },
 "nbformat": 4,
 "nbformat_minor": 5
}
