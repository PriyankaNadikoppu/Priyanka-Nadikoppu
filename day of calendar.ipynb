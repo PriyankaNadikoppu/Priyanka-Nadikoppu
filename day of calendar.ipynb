{
 "cells": [
  {
   "cell_type": "code",
   "execution_count": null,
   "id": "bc234e5d-8f2e-4948-8469-36ba348c6cc0",
   "metadata": {},
   "outputs": [],
   "source": [
    "#print first and last day of a month\n",
    "import calendar\n",
    "from datetime import date\n",
    "year= 2025\n",
    "month= 5\n",
    "fday= date(year, month, 1)\n",
    "lday= date(year, month, calendar.monthrange(year, month)[1])\n",
    "print(\"firstday:\", fday.strftime(\"%A, %Y-%M-%D\"))\n",
    "print(\"lastday:\", lday.strftime(\"%A, %y-%m-%d\"))"
   ]
  }
 ],
 "metadata": {
  "kernelspec": {
   "display_name": "Python 3 (ipykernel)",
   "language": "python",
   "name": "python3"
  },
  "language_info": {
   "codemirror_mode": {
    "name": "ipython",
    "version": 3
   },
   "file_extension": ".py",
   "mimetype": "text/x-python",
   "name": "python",
   "nbconvert_exporter": "python",
   "pygments_lexer": "ipython3",
   "version": "3.12.7"
  }
 },
 "nbformat": 4,
 "nbformat_minor": 5
}
