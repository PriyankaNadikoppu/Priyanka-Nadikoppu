{
 "cells": [
  {
   "cell_type": "code",
   "execution_count": null,
   "id": "63b63e6e-04b4-46d9-9db3-520231c0e6f6",
   "metadata": {},
   "outputs": [],
   "source": [
    "import calendar\n",
    "leaps= calendar.leapdays(1925,2025)\n",
    "print(leaps, end=' ')"
   ]
  }
 ],
 "metadata": {
  "kernelspec": {
   "display_name": "Python 3 (ipykernel)",
   "language": "python",
   "name": "python3"
  },
  "language_info": {
   "codemirror_mode": {
    "name": "ipython",
    "version": 3
   },
   "file_extension": ".py",
   "mimetype": "text/x-python",
   "name": "python",
   "nbconvert_exporter": "python",
   "pygments_lexer": "ipython3",
   "version": "3.12.7"
  }
 },
 "nbformat": 4,
 "nbformat_minor": 5
}
