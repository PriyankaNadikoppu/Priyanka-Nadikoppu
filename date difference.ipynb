{
 "cells": [
  {
   "cell_type": "code",
   "execution_count": null,
   "id": "83db7983-238d-4c49-9962-893f0b38c506",
   "metadata": {},
   "outputs": [],
   "source": [
    "#dates difference\n",
    "from datetime import date\n",
    "d1= date(2025, 5, 9)\n",
    "d2= date(2024, 1, 1)\n",
    "diff= d1-d2\n",
    "print(\"difference in dates:\",diff.days)"
   ]
  }
 ],
 "metadata": {
  "kernelspec": {
   "display_name": "Python 3 (ipykernel)",
   "language": "python",
   "name": "python3"
  },
  "language_info": {
   "codemirror_mode": {
    "name": "ipython",
    "version": 3
   },
   "file_extension": ".py",
   "mimetype": "text/x-python",
   "name": "python",
   "nbconvert_exporter": "python",
   "pygments_lexer": "ipython3",
   "version": "3.12.7"
  }
 },
 "nbformat": 4,
 "nbformat_minor": 5
}
